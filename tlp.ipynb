{
 "cells": [
  {
   "cell_type": "code",
   "execution_count": 1,
   "metadata": {},
   "outputs": [],
   "source": [
    "import pandas as pd\n",
    "import matplotlib.pyplot as plt\n",
    "import datetime as dt\n",
    "import seaborn as sns\n",
    "import numpy as np\n",
    "import matplotlib.dates as mdates\n",
    "import datetime\n",
    "#sns.set(color_codes=True)\n",
    "import matplotlib as mpl\n",
    "mpl.rcParams['pdf.fonttype'] = 42\n",
    "import statistics as st\n",
    "sns.set_style('whitegrid', {'axes.linewidth' : 0.5})\n",
    "from statsmodels.distributions.empirical_distribution import ECDF\n",
    "import scipy\n",
    "import gc\n",
    "import collections\n",
    "\n",
    "import sys\n",
    "sys.path.append('../prepare_gustav/src/')\n",
    "\n",
    "from gustav import ebi, ncbi, nlm, nih\n",
    "from gustav import publications\n",
    "from gustav import github\n",
    "from gustav import access_framework\n",
    "from gtfparse import read_gtf"
   ]
  },
  {
   "cell_type": "code",
   "execution_count": 2,
   "metadata": {},
   "outputs": [],
   "source": [
    "from bokeh.io import output_notebook, show, save\n",
    "from bokeh.models import Range1d, Circle, ColumnDataSource, MultiLine, Circle, EdgesAndLinkedNodes, TapTool, NodesAndLinkedEdges, OpenURL, Title\n",
    "from bokeh.plotting import figure\n",
    "from bokeh.plotting import from_networkx\n",
    "from bokeh.palettes import Blues8, Reds8, Purples8, Oranges8, Viridis8, Spectral8\n",
    "from bokeh.transform import linear_cmap"
   ]
  },
  {
   "cell_type": "code",
   "execution_count": 3,
   "metadata": {},
   "outputs": [
    {
     "data": {
      "text/html": [
       "\n",
       "    <div class=\"bk-root\">\n",
       "        <a href=\"https://bokeh.org\" target=\"_blank\" class=\"bk-logo bk-logo-small bk-logo-notebook\"></a>\n",
       "        <span id=\"1001\">Loading BokehJS ...</span>\n",
       "    </div>"
      ]
     },
     "metadata": {},
     "output_type": "display_data"
    },
    {
     "data": {
      "application/javascript": [
       "\n",
       "(function(root) {\n",
       "  function now() {\n",
       "    return new Date();\n",
       "  }\n",
       "\n",
       "  var force = true;\n",
       "\n",
       "  if (typeof root._bokeh_onload_callbacks === \"undefined\" || force === true) {\n",
       "    root._bokeh_onload_callbacks = [];\n",
       "    root._bokeh_is_loading = undefined;\n",
       "  }\n",
       "\n",
       "  var JS_MIME_TYPE = 'application/javascript';\n",
       "  var HTML_MIME_TYPE = 'text/html';\n",
       "  var EXEC_MIME_TYPE = 'application/vnd.bokehjs_exec.v0+json';\n",
       "  var CLASS_NAME = 'output_bokeh rendered_html';\n",
       "\n",
       "  /**\n",
       "   * Render data to the DOM node\n",
       "   */\n",
       "  function render(props, node) {\n",
       "    var script = document.createElement(\"script\");\n",
       "    node.appendChild(script);\n",
       "  }\n",
       "\n",
       "  /**\n",
       "   * Handle when an output is cleared or removed\n",
       "   */\n",
       "  function handleClearOutput(event, handle) {\n",
       "    var cell = handle.cell;\n",
       "\n",
       "    var id = cell.output_area._bokeh_element_id;\n",
       "    var server_id = cell.output_area._bokeh_server_id;\n",
       "    // Clean up Bokeh references\n",
       "    if (id != null && id in Bokeh.index) {\n",
       "      Bokeh.index[id].model.document.clear();\n",
       "      delete Bokeh.index[id];\n",
       "    }\n",
       "\n",
       "    if (server_id !== undefined) {\n",
       "      // Clean up Bokeh references\n",
       "      var cmd = \"from bokeh.io.state import curstate; print(curstate().uuid_to_server['\" + server_id + \"'].get_sessions()[0].document.roots[0]._id)\";\n",
       "      cell.notebook.kernel.execute(cmd, {\n",
       "        iopub: {\n",
       "          output: function(msg) {\n",
       "            var id = msg.content.text.trim();\n",
       "            if (id in Bokeh.index) {\n",
       "              Bokeh.index[id].model.document.clear();\n",
       "              delete Bokeh.index[id];\n",
       "            }\n",
       "          }\n",
       "        }\n",
       "      });\n",
       "      // Destroy server and session\n",
       "      var cmd = \"import bokeh.io.notebook as ion; ion.destroy_server('\" + server_id + \"')\";\n",
       "      cell.notebook.kernel.execute(cmd);\n",
       "    }\n",
       "  }\n",
       "\n",
       "  /**\n",
       "   * Handle when a new output is added\n",
       "   */\n",
       "  function handleAddOutput(event, handle) {\n",
       "    var output_area = handle.output_area;\n",
       "    var output = handle.output;\n",
       "\n",
       "    // limit handleAddOutput to display_data with EXEC_MIME_TYPE content only\n",
       "    if ((output.output_type != \"display_data\") || (!output.data.hasOwnProperty(EXEC_MIME_TYPE))) {\n",
       "      return\n",
       "    }\n",
       "\n",
       "    var toinsert = output_area.element.find(\".\" + CLASS_NAME.split(' ')[0]);\n",
       "\n",
       "    if (output.metadata[EXEC_MIME_TYPE][\"id\"] !== undefined) {\n",
       "      toinsert[toinsert.length - 1].firstChild.textContent = output.data[JS_MIME_TYPE];\n",
       "      // store reference to embed id on output_area\n",
       "      output_area._bokeh_element_id = output.metadata[EXEC_MIME_TYPE][\"id\"];\n",
       "    }\n",
       "    if (output.metadata[EXEC_MIME_TYPE][\"server_id\"] !== undefined) {\n",
       "      var bk_div = document.createElement(\"div\");\n",
       "      bk_div.innerHTML = output.data[HTML_MIME_TYPE];\n",
       "      var script_attrs = bk_div.children[0].attributes;\n",
       "      for (var i = 0; i < script_attrs.length; i++) {\n",
       "        toinsert[toinsert.length - 1].firstChild.setAttribute(script_attrs[i].name, script_attrs[i].value);\n",
       "        toinsert[toinsert.length - 1].firstChild.textContent = bk_div.children[0].textContent\n",
       "      }\n",
       "      // store reference to server id on output_area\n",
       "      output_area._bokeh_server_id = output.metadata[EXEC_MIME_TYPE][\"server_id\"];\n",
       "    }\n",
       "  }\n",
       "\n",
       "  function register_renderer(events, OutputArea) {\n",
       "\n",
       "    function append_mime(data, metadata, element) {\n",
       "      // create a DOM node to render to\n",
       "      var toinsert = this.create_output_subarea(\n",
       "        metadata,\n",
       "        CLASS_NAME,\n",
       "        EXEC_MIME_TYPE\n",
       "      );\n",
       "      this.keyboard_manager.register_events(toinsert);\n",
       "      // Render to node\n",
       "      var props = {data: data, metadata: metadata[EXEC_MIME_TYPE]};\n",
       "      render(props, toinsert[toinsert.length - 1]);\n",
       "      element.append(toinsert);\n",
       "      return toinsert\n",
       "    }\n",
       "\n",
       "    /* Handle when an output is cleared or removed */\n",
       "    events.on('clear_output.CodeCell', handleClearOutput);\n",
       "    events.on('delete.Cell', handleClearOutput);\n",
       "\n",
       "    /* Handle when a new output is added */\n",
       "    events.on('output_added.OutputArea', handleAddOutput);\n",
       "\n",
       "    /**\n",
       "     * Register the mime type and append_mime function with output_area\n",
       "     */\n",
       "    OutputArea.prototype.register_mime_type(EXEC_MIME_TYPE, append_mime, {\n",
       "      /* Is output safe? */\n",
       "      safe: true,\n",
       "      /* Index of renderer in `output_area.display_order` */\n",
       "      index: 0\n",
       "    });\n",
       "  }\n",
       "\n",
       "  // register the mime type if in Jupyter Notebook environment and previously unregistered\n",
       "  if (root.Jupyter !== undefined) {\n",
       "    var events = require('base/js/events');\n",
       "    var OutputArea = require('notebook/js/outputarea').OutputArea;\n",
       "\n",
       "    if (OutputArea.prototype.mime_types().indexOf(EXEC_MIME_TYPE) == -1) {\n",
       "      register_renderer(events, OutputArea);\n",
       "    }\n",
       "  }\n",
       "\n",
       "  \n",
       "  if (typeof (root._bokeh_timeout) === \"undefined\" || force === true) {\n",
       "    root._bokeh_timeout = Date.now() + 5000;\n",
       "    root._bokeh_failed_load = false;\n",
       "  }\n",
       "\n",
       "  var NB_LOAD_WARNING = {'data': {'text/html':\n",
       "     \"<div style='background-color: #fdd'>\\n\"+\n",
       "     \"<p>\\n\"+\n",
       "     \"BokehJS does not appear to have successfully loaded. If loading BokehJS from CDN, this \\n\"+\n",
       "     \"may be due to a slow or bad network connection. Possible fixes:\\n\"+\n",
       "     \"</p>\\n\"+\n",
       "     \"<ul>\\n\"+\n",
       "     \"<li>re-rerun `output_notebook()` to attempt to load from CDN again, or</li>\\n\"+\n",
       "     \"<li>use INLINE resources instead, as so:</li>\\n\"+\n",
       "     \"</ul>\\n\"+\n",
       "     \"<code>\\n\"+\n",
       "     \"from bokeh.resources import INLINE\\n\"+\n",
       "     \"output_notebook(resources=INLINE)\\n\"+\n",
       "     \"</code>\\n\"+\n",
       "     \"</div>\"}};\n",
       "\n",
       "  function display_loaded() {\n",
       "    var el = document.getElementById(\"1001\");\n",
       "    if (el != null) {\n",
       "      el.textContent = \"BokehJS is loading...\";\n",
       "    }\n",
       "    if (root.Bokeh !== undefined) {\n",
       "      if (el != null) {\n",
       "        el.textContent = \"BokehJS \" + root.Bokeh.version + \" successfully loaded.\";\n",
       "      }\n",
       "    } else if (Date.now() < root._bokeh_timeout) {\n",
       "      setTimeout(display_loaded, 100)\n",
       "    }\n",
       "  }\n",
       "\n",
       "\n",
       "  function run_callbacks() {\n",
       "    try {\n",
       "      root._bokeh_onload_callbacks.forEach(function(callback) {\n",
       "        if (callback != null)\n",
       "          callback();\n",
       "      });\n",
       "    } finally {\n",
       "      delete root._bokeh_onload_callbacks\n",
       "    }\n",
       "    console.debug(\"Bokeh: all callbacks have finished\");\n",
       "  }\n",
       "\n",
       "  function load_libs(css_urls, js_urls, callback) {\n",
       "    if (css_urls == null) css_urls = [];\n",
       "    if (js_urls == null) js_urls = [];\n",
       "\n",
       "    root._bokeh_onload_callbacks.push(callback);\n",
       "    if (root._bokeh_is_loading > 0) {\n",
       "      console.debug(\"Bokeh: BokehJS is being loaded, scheduling callback at\", now());\n",
       "      return null;\n",
       "    }\n",
       "    if (js_urls == null || js_urls.length === 0) {\n",
       "      run_callbacks();\n",
       "      return null;\n",
       "    }\n",
       "    console.debug(\"Bokeh: BokehJS not loaded, scheduling load and callback at\", now());\n",
       "    root._bokeh_is_loading = css_urls.length + js_urls.length;\n",
       "\n",
       "    function on_load() {\n",
       "      root._bokeh_is_loading--;\n",
       "      if (root._bokeh_is_loading === 0) {\n",
       "        console.debug(\"Bokeh: all BokehJS libraries/stylesheets loaded\");\n",
       "        run_callbacks()\n",
       "      }\n",
       "    }\n",
       "\n",
       "    function on_error() {\n",
       "      console.error(\"failed to load \" + url);\n",
       "    }\n",
       "\n",
       "    for (var i = 0; i < css_urls.length; i++) {\n",
       "      var url = css_urls[i];\n",
       "      const element = document.createElement(\"link\");\n",
       "      element.onload = on_load;\n",
       "      element.onerror = on_error;\n",
       "      element.rel = \"stylesheet\";\n",
       "      element.type = \"text/css\";\n",
       "      element.href = url;\n",
       "      console.debug(\"Bokeh: injecting link tag for BokehJS stylesheet: \", url);\n",
       "      document.body.appendChild(element);\n",
       "    }\n",
       "\n",
       "    const hashes = {\"https://cdn.bokeh.org/bokeh/release/bokeh-2.1.1.min.js\": \"kLr4fYcqcSpbuI95brIH3vnnYCquzzSxHPU6XGQCIkQRGJwhg0StNbj1eegrHs12\", \"https://cdn.bokeh.org/bokeh/release/bokeh-widgets-2.1.1.min.js\": \"xIGPmVtaOm+z0BqfSOMn4lOR6ciex448GIKG4eE61LsAvmGj48XcMQZtKcE/UXZe\", \"https://cdn.bokeh.org/bokeh/release/bokeh-tables-2.1.1.min.js\": \"Dc9u1wF/0zApGIWoBbH77iWEHtdmkuYWG839Uzmv8y8yBLXebjO9ZnERsde5Ln/P\", \"https://cdn.bokeh.org/bokeh/release/bokeh-gl-2.1.1.min.js\": \"cT9JaBz7GiRXdENrJLZNSC6eMNF3nh3fa5fTF51Svp+ukxPdwcU5kGXGPBgDCa2j\"};\n",
       "\n",
       "    for (var i = 0; i < js_urls.length; i++) {\n",
       "      var url = js_urls[i];\n",
       "      var element = document.createElement('script');\n",
       "      element.onload = on_load;\n",
       "      element.onerror = on_error;\n",
       "      element.async = false;\n",
       "      element.src = url;\n",
       "      if (url in hashes) {\n",
       "        element.crossOrigin = \"anonymous\";\n",
       "        element.integrity = \"sha384-\" + hashes[url];\n",
       "      }\n",
       "      console.debug(\"Bokeh: injecting script tag for BokehJS library: \", url);\n",
       "      document.head.appendChild(element);\n",
       "    }\n",
       "  };\n",
       "\n",
       "  function inject_raw_css(css) {\n",
       "    const element = document.createElement(\"style\");\n",
       "    element.appendChild(document.createTextNode(css));\n",
       "    document.body.appendChild(element);\n",
       "  }\n",
       "\n",
       "  \n",
       "  var js_urls = [\"https://cdn.bokeh.org/bokeh/release/bokeh-2.1.1.min.js\", \"https://cdn.bokeh.org/bokeh/release/bokeh-widgets-2.1.1.min.js\", \"https://cdn.bokeh.org/bokeh/release/bokeh-tables-2.1.1.min.js\", \"https://cdn.bokeh.org/bokeh/release/bokeh-gl-2.1.1.min.js\"];\n",
       "  var css_urls = [];\n",
       "  \n",
       "\n",
       "  var inline_js = [\n",
       "    function(Bokeh) {\n",
       "      Bokeh.set_log_level(\"info\");\n",
       "    },\n",
       "    function(Bokeh) {\n",
       "    \n",
       "    \n",
       "    }\n",
       "  ];\n",
       "\n",
       "  function run_inline_js() {\n",
       "    \n",
       "    if (root.Bokeh !== undefined || force === true) {\n",
       "      \n",
       "    for (var i = 0; i < inline_js.length; i++) {\n",
       "      inline_js[i].call(root, root.Bokeh);\n",
       "    }\n",
       "    if (force === true) {\n",
       "        display_loaded();\n",
       "      }} else if (Date.now() < root._bokeh_timeout) {\n",
       "      setTimeout(run_inline_js, 100);\n",
       "    } else if (!root._bokeh_failed_load) {\n",
       "      console.log(\"Bokeh: BokehJS failed to load within specified timeout.\");\n",
       "      root._bokeh_failed_load = true;\n",
       "    } else if (force !== true) {\n",
       "      var cell = $(document.getElementById(\"1001\")).parents('.cell').data().cell;\n",
       "      cell.output_area.append_execute_result(NB_LOAD_WARNING)\n",
       "    }\n",
       "\n",
       "  }\n",
       "\n",
       "  if (root._bokeh_is_loading === 0) {\n",
       "    console.debug(\"Bokeh: BokehJS loaded, going straight to plotting\");\n",
       "    run_inline_js();\n",
       "  } else {\n",
       "    load_libs(css_urls, js_urls, function() {\n",
       "      console.debug(\"Bokeh: BokehJS plotting callback run at\", now());\n",
       "      run_inline_js();\n",
       "    });\n",
       "  }\n",
       "}(window));"
      ],
      "application/vnd.bokehjs_load.v0+json": "\n(function(root) {\n  function now() {\n    return new Date();\n  }\n\n  var force = true;\n\n  if (typeof root._bokeh_onload_callbacks === \"undefined\" || force === true) {\n    root._bokeh_onload_callbacks = [];\n    root._bokeh_is_loading = undefined;\n  }\n\n  \n\n  \n  if (typeof (root._bokeh_timeout) === \"undefined\" || force === true) {\n    root._bokeh_timeout = Date.now() + 5000;\n    root._bokeh_failed_load = false;\n  }\n\n  var NB_LOAD_WARNING = {'data': {'text/html':\n     \"<div style='background-color: #fdd'>\\n\"+\n     \"<p>\\n\"+\n     \"BokehJS does not appear to have successfully loaded. If loading BokehJS from CDN, this \\n\"+\n     \"may be due to a slow or bad network connection. Possible fixes:\\n\"+\n     \"</p>\\n\"+\n     \"<ul>\\n\"+\n     \"<li>re-rerun `output_notebook()` to attempt to load from CDN again, or</li>\\n\"+\n     \"<li>use INLINE resources instead, as so:</li>\\n\"+\n     \"</ul>\\n\"+\n     \"<code>\\n\"+\n     \"from bokeh.resources import INLINE\\n\"+\n     \"output_notebook(resources=INLINE)\\n\"+\n     \"</code>\\n\"+\n     \"</div>\"}};\n\n  function display_loaded() {\n    var el = document.getElementById(\"1001\");\n    if (el != null) {\n      el.textContent = \"BokehJS is loading...\";\n    }\n    if (root.Bokeh !== undefined) {\n      if (el != null) {\n        el.textContent = \"BokehJS \" + root.Bokeh.version + \" successfully loaded.\";\n      }\n    } else if (Date.now() < root._bokeh_timeout) {\n      setTimeout(display_loaded, 100)\n    }\n  }\n\n\n  function run_callbacks() {\n    try {\n      root._bokeh_onload_callbacks.forEach(function(callback) {\n        if (callback != null)\n          callback();\n      });\n    } finally {\n      delete root._bokeh_onload_callbacks\n    }\n    console.debug(\"Bokeh: all callbacks have finished\");\n  }\n\n  function load_libs(css_urls, js_urls, callback) {\n    if (css_urls == null) css_urls = [];\n    if (js_urls == null) js_urls = [];\n\n    root._bokeh_onload_callbacks.push(callback);\n    if (root._bokeh_is_loading > 0) {\n      console.debug(\"Bokeh: BokehJS is being loaded, scheduling callback at\", now());\n      return null;\n    }\n    if (js_urls == null || js_urls.length === 0) {\n      run_callbacks();\n      return null;\n    }\n    console.debug(\"Bokeh: BokehJS not loaded, scheduling load and callback at\", now());\n    root._bokeh_is_loading = css_urls.length + js_urls.length;\n\n    function on_load() {\n      root._bokeh_is_loading--;\n      if (root._bokeh_is_loading === 0) {\n        console.debug(\"Bokeh: all BokehJS libraries/stylesheets loaded\");\n        run_callbacks()\n      }\n    }\n\n    function on_error() {\n      console.error(\"failed to load \" + url);\n    }\n\n    for (var i = 0; i < css_urls.length; i++) {\n      var url = css_urls[i];\n      const element = document.createElement(\"link\");\n      element.onload = on_load;\n      element.onerror = on_error;\n      element.rel = \"stylesheet\";\n      element.type = \"text/css\";\n      element.href = url;\n      console.debug(\"Bokeh: injecting link tag for BokehJS stylesheet: \", url);\n      document.body.appendChild(element);\n    }\n\n    const hashes = {\"https://cdn.bokeh.org/bokeh/release/bokeh-2.1.1.min.js\": \"kLr4fYcqcSpbuI95brIH3vnnYCquzzSxHPU6XGQCIkQRGJwhg0StNbj1eegrHs12\", \"https://cdn.bokeh.org/bokeh/release/bokeh-widgets-2.1.1.min.js\": \"xIGPmVtaOm+z0BqfSOMn4lOR6ciex448GIKG4eE61LsAvmGj48XcMQZtKcE/UXZe\", \"https://cdn.bokeh.org/bokeh/release/bokeh-tables-2.1.1.min.js\": \"Dc9u1wF/0zApGIWoBbH77iWEHtdmkuYWG839Uzmv8y8yBLXebjO9ZnERsde5Ln/P\", \"https://cdn.bokeh.org/bokeh/release/bokeh-gl-2.1.1.min.js\": \"cT9JaBz7GiRXdENrJLZNSC6eMNF3nh3fa5fTF51Svp+ukxPdwcU5kGXGPBgDCa2j\"};\n\n    for (var i = 0; i < js_urls.length; i++) {\n      var url = js_urls[i];\n      var element = document.createElement('script');\n      element.onload = on_load;\n      element.onerror = on_error;\n      element.async = false;\n      element.src = url;\n      if (url in hashes) {\n        element.crossOrigin = \"anonymous\";\n        element.integrity = \"sha384-\" + hashes[url];\n      }\n      console.debug(\"Bokeh: injecting script tag for BokehJS library: \", url);\n      document.head.appendChild(element);\n    }\n  };\n\n  function inject_raw_css(css) {\n    const element = document.createElement(\"style\");\n    element.appendChild(document.createTextNode(css));\n    document.body.appendChild(element);\n  }\n\n  \n  var js_urls = [\"https://cdn.bokeh.org/bokeh/release/bokeh-2.1.1.min.js\", \"https://cdn.bokeh.org/bokeh/release/bokeh-widgets-2.1.1.min.js\", \"https://cdn.bokeh.org/bokeh/release/bokeh-tables-2.1.1.min.js\", \"https://cdn.bokeh.org/bokeh/release/bokeh-gl-2.1.1.min.js\"];\n  var css_urls = [];\n  \n\n  var inline_js = [\n    function(Bokeh) {\n      Bokeh.set_log_level(\"info\");\n    },\n    function(Bokeh) {\n    \n    \n    }\n  ];\n\n  function run_inline_js() {\n    \n    if (root.Bokeh !== undefined || force === true) {\n      \n    for (var i = 0; i < inline_js.length; i++) {\n      inline_js[i].call(root, root.Bokeh);\n    }\n    if (force === true) {\n        display_loaded();\n      }} else if (Date.now() < root._bokeh_timeout) {\n      setTimeout(run_inline_js, 100);\n    } else if (!root._bokeh_failed_load) {\n      console.log(\"Bokeh: BokehJS failed to load within specified timeout.\");\n      root._bokeh_failed_load = true;\n    } else if (force !== true) {\n      var cell = $(document.getElementById(\"1001\")).parents('.cell').data().cell;\n      cell.output_area.append_execute_result(NB_LOAD_WARNING)\n    }\n\n  }\n\n  if (root._bokeh_is_loading === 0) {\n    console.debug(\"Bokeh: BokehJS loaded, going straight to plotting\");\n    run_inline_js();\n  } else {\n    load_libs(css_urls, js_urls, function() {\n      console.debug(\"Bokeh: BokehJS plotting callback run at\", now());\n      run_inline_js();\n    });\n  }\n}(window));"
     },
     "metadata": {},
     "output_type": "display_data"
    }
   ],
   "source": [
    "output_notebook()"
   ]
  },
  {
   "cell_type": "code",
   "execution_count": 4,
   "metadata": {},
   "outputs": [],
   "source": [
    "import networkx as nx"
   ]
  },
  {
   "cell_type": "code",
   "execution_count": 5,
   "metadata": {},
   "outputs": [
    {
     "name": "stdout",
     "output_type": "stream",
     "text": [
      "Help on package networkx:\n",
      "\n",
      "NAME\n",
      "    networkx\n",
      "\n",
      "DESCRIPTION\n",
      "    NetworkX\n",
      "    ========\n",
      "    \n",
      "    NetworkX is a Python package for the creation, manipulation, and study of the\n",
      "    structure, dynamics, and functions of complex networks.\n",
      "    \n",
      "    See https://networkx.org for complete documentation.\n",
      "\n",
      "PACKAGE CONTENTS\n",
      "    algorithms (package)\n",
      "    classes (package)\n",
      "    conftest\n",
      "    convert\n",
      "    convert_matrix\n",
      "    drawing (package)\n",
      "    exception\n",
      "    generators (package)\n",
      "    linalg (package)\n",
      "    readwrite (package)\n",
      "    relabel\n",
      "    testing (package)\n",
      "    tests (package)\n",
      "    utils (package)\n",
      "\n",
      "SUBMODULES\n",
      "    adjacency\n",
      "    adjlist\n",
      "    algebraicconnectivity\n",
      "    all\n",
      "    approximation\n",
      "    assortativity\n",
      "    astar\n",
      "    asteroidal\n",
      "    atlas\n",
      "    attracting\n",
      "    attrmatrix\n",
      "    beamsearch\n",
      "    bethehessianmatrix\n",
      "    betweenness\n",
      "    betweenness_subset\n",
      "    biconnected\n",
      "    binary\n",
      "    bipartite\n",
      "    boundary\n",
      "    breadth_first_search\n",
      "    centrality\n",
      "    chains\n",
      "    chordal\n",
      "    classic\n",
      "    clique\n",
      "    closeness\n",
      "    cluster\n",
      "    cographs\n",
      "    coloring\n",
      "    communicability_alg\n",
      "    community\n",
      "    components\n",
      "    connected\n",
      "    connectivity\n",
      "    core\n",
      "    coreviews\n",
      "    correlation\n",
      "    covering\n",
      "    current_flow_betweenness\n",
      "    current_flow_betweenness_subset\n",
      "    current_flow_closeness\n",
      "    cuts\n",
      "    cycles\n",
      "    cytoscape\n",
      "    d_separation\n",
      "    dag\n",
      "    degree_alg\n",
      "    degree_seq\n",
      "    dense\n",
      "    depth_first_search\n",
      "    digraph\n",
      "    directed\n",
      "    distance_measures\n",
      "    distance_regular\n",
      "    dominance\n",
      "    dominating\n",
      "    duplication\n",
      "    edgebfs\n",
      "    edgedfs\n",
      "    edgelist\n",
      "    efficiency_measures\n",
      "    ego\n",
      "    eigenvector\n",
      "    euler\n",
      "    expanders\n",
      "    filters\n",
      "    flow\n",
      "    flow_matrix\n",
      "    function\n",
      "    generic\n",
      "    geometric\n",
      "    gexf\n",
      "    gml\n",
      "    gpickle\n",
      "    graph\n",
      "    graph6\n",
      "    graph_hashing\n",
      "    graphical\n",
      "    graphmatrix\n",
      "    graphml\n",
      "    graphviews\n",
      "    group\n",
      "    harmonic\n",
      "    hierarchy\n",
      "    hits_alg\n",
      "    hybrid\n",
      "    internet_as_graphs\n",
      "    isolate\n",
      "    isomorphism\n",
      "    jit\n",
      "    joint_degree_seq\n",
      "    json_graph\n",
      "    katz\n",
      "    laplacianmatrix\n",
      "    lattice\n",
      "    layout\n",
      "    leda\n",
      "    line\n",
      "    link_analysis\n",
      "    link_prediction\n",
      "    load\n",
      "    lowest_common_ancestors\n",
      "    matching\n",
      "    minors\n",
      "    mis\n",
      "    mixing\n",
      "    modularitymatrix\n",
      "    moral\n",
      "    multidigraph\n",
      "    multigraph\n",
      "    multiline_adjlist\n",
      "    mycielski\n",
      "    neighbor_degree\n",
      "    node_classification\n",
      "    node_link\n",
      "    nx_agraph\n",
      "    nx_pydot\n",
      "    nx_pylab\n",
      "    nx_shp\n",
      "    operators\n",
      "    ordered\n",
      "    pagerank_alg\n",
      "    pairs\n",
      "    pajek\n",
      "    percolation\n",
      "    planar_drawing\n",
      "    planarity\n",
      "    product\n",
      "    random_clustered\n",
      "    random_graphs\n",
      "    reaching\n",
      "    regular\n",
      "    reportviews\n",
      "    richclub\n",
      "    second_order\n",
      "    semiconnected\n",
      "    shortest_paths\n",
      "    similarity\n",
      "    simple_paths\n",
      "    small\n",
      "    smallworld\n",
      "    smetric\n",
      "    social\n",
      "    sparse6\n",
      "    sparsifiers\n",
      "    spectrum\n",
      "    stochastic\n",
      "    strongly_connected\n",
      "    structuralholes\n",
      "    subgraph_alg\n",
      "    sudoku\n",
      "    summarization\n",
      "    swap\n",
      "    text\n",
      "    tournament\n",
      "    traversal\n",
      "    tree\n",
      "    trees\n",
      "    triads\n",
      "    trophic\n",
      "    unary\n",
      "    unweighted\n",
      "    vitality\n",
      "    voronoi\n",
      "    voterank_alg\n",
      "    weakly_connected\n",
      "    weighted\n",
      "    wiener\n",
      "\n",
      "FUNCTIONS\n",
      "    __getattr__(name)\n",
      "        Remove functions and provide informative error messages.\n",
      "\n",
      "VERSION\n",
      "    2.6.3\n",
      "\n",
      "FILE\n",
      "    c:\\users\\ibis grad\\appdata\\roaming\\python\\python37\\site-packages\\networkx\\__init__.py\n",
      "\n",
      "\n"
     ]
    }
   ],
   "source": [
    "help(nx)"
   ]
  },
  {
   "cell_type": "code",
   "execution_count": 5,
   "metadata": {},
   "outputs": [
    {
     "name": "stderr",
     "output_type": "stream",
     "text": [
      "../prepare_gustav/src\\gustav\\utils.py:52: FutureWarning: In a future version of pandas all arguments of DataFrame.drop except for the argument 'labels' will be keyword-only\n",
      "  df_with_delimiter.drop(column, 1).reset_index(),\n",
      "../prepare_gustav/src\\gustav\\utils.py:63: FutureWarning: In a future version of pandas all arguments of DataFrame.drop except for the argument 'labels' will be keyword-only\n",
      "  joined = joined.drop('helper_index', 1)\n"
     ]
    },
    {
     "name": "stdout",
     "output_type": "stream",
     "text": [
      "Wall time: 1.07 s\n"
     ]
    }
   ],
   "source": [
    "%%time\n",
    "gene_info = ncbi.gene_info(taxon_ncbi=9606, mode='unambiguous_ensembl')"
   ]
  },
  {
   "cell_type": "code",
   "execution_count": 6,
   "metadata": {},
   "outputs": [
    {
     "name": "stdout",
     "output_type": "stream",
     "text": [
      "Wall time: 121 ms\n"
     ]
    }
   ],
   "source": [
    "%%time\n",
    "gene2pubmed = ncbi.gene2pubmed(taxon_ncbi=9606)"
   ]
  },
  {
   "cell_type": "code",
   "execution_count": 7,
   "metadata": {},
   "outputs": [
    {
     "name": "stdout",
     "output_type": "stream",
     "text": [
      "Wall time: 11.7 s\n"
     ]
    }
   ],
   "source": [
    "%%time\n",
    "\n",
    "ml = ncbi.pubmed(\n",
    "    'main',\n",
    "    ['pubmed_id', 'pubdate']   # there are many more columns, including abstracts\n",
    ").rename(\n",
    "    columns={'pubdate': 'year'}\n",
    ").groupby('pubmed_id')['year'].min().reset_index()"
   ]
  },
  {
   "cell_type": "code",
   "execution_count": 8,
   "metadata": {},
   "outputs": [
    {
     "name": "stdout",
     "output_type": "stream",
     "text": [
      "Wall time: 8.75 s\n"
     ]
    }
   ],
   "source": [
    "%%time\n",
    "gene2pubmed = pd.merge(gene2pubmed, ml, on='pubmed_id', how='left')"
   ]
  },
  {
   "cell_type": "code",
   "execution_count": 130,
   "metadata": {},
   "outputs": [],
   "source": [
    "gene2pubmed_new = gene2pubmed.copy()"
   ]
  },
  {
   "cell_type": "code",
   "execution_count": 131,
   "metadata": {},
   "outputs": [],
   "source": [
    "gene2pubmed_new = gene2pubmed_new[(gene2pubmed_new['year'] >= 2000) & (gene2pubmed_new['year'] <= 2018)]"
   ]
  },
  {
   "cell_type": "code",
   "execution_count": 132,
   "metadata": {},
   "outputs": [
    {
     "name": "stdout",
     "output_type": "stream",
     "text": [
      "Wall time: 278 ms\n"
     ]
    }
   ],
   "source": [
    "%%time\n",
    "valid_pubmed_ids = gene2pubmed_new['pubmed_id'].value_counts()\n",
    "\n",
    "valid_pubmed_ids = valid_pubmed_ids[(valid_pubmed_ids > 1) & (valid_pubmed_ids <= 10)]\n",
    "\n",
    "gene2pubmed_new = gene2pubmed_new[gene2pubmed_new['pubmed_id'].isin(valid_pubmed_ids.index)]\n",
    "\n",
    "gene_count = gene2pubmed[(gene2pubmed['year'] >= 2000) & (gene2pubmed['year'] <= 2018)]['gene_ncbi'].value_counts()\n",
    "\n",
    "genes_of_interest = gene_count[gene_count.index.isin(gene_info['gene_ncbi'])].index.values"
   ]
  },
  {
   "cell_type": "code",
   "execution_count": 133,
   "metadata": {},
   "outputs": [],
   "source": [
    "edge_df = gene2pubmed_new[gene2pubmed_new['gene_ncbi'].isin(genes_of_interest)][['gene_ncbi', 'pubmed_id']]\n",
    "G = nx.from_edgelist(edge_df.values)"
   ]
  },
  {
   "cell_type": "code",
   "execution_count": 135,
   "metadata": {},
   "outputs": [
    {
     "data": {
      "text/plain": [
       "17755"
      ]
     },
     "execution_count": 135,
     "metadata": {},
     "output_type": "execute_result"
    }
   ],
   "source": [
    "len(edge_df['gene_ncbi'].value_counts().index.values)"
   ]
  },
  {
   "cell_type": "code",
   "execution_count": 136,
   "metadata": {},
   "outputs": [],
   "source": [
    "B = nx.algorithms.bipartite.weighted_projected_graph(G, nodes=edge_df['gene_ncbi'].value_counts().index.values)"
   ]
  },
  {
   "cell_type": "code",
   "execution_count": null,
   "metadata": {},
   "outputs": [],
   "source": []
  },
  {
   "cell_type": "code",
   "execution_count": null,
   "metadata": {},
   "outputs": [],
   "source": []
  },
  {
   "cell_type": "code",
   "execution_count": 198,
   "metadata": {},
   "outputs": [
    {
     "name": "stdout",
     "output_type": "stream",
     "text": [
      "Wall time: 12.2 s\n"
     ]
    }
   ],
   "source": [
    "%%time\n",
    "temporal_network = {}\n",
    "for year in range(2000, 2019):\n",
    "    \n",
    "    gene2pubmed_new = gene2pubmed.copy()\n",
    "\n",
    "    gene2pubmed_new = gene2pubmed_new[(gene2pubmed_new['year'] == year)]\n",
    "\n",
    "    valid_pubmed_ids = gene2pubmed_new['pubmed_id'].value_counts()\n",
    "\n",
    "    valid_pubmed_ids = valid_pubmed_ids[(valid_pubmed_ids > 1) & (valid_pubmed_ids <= 10)]\n",
    "\n",
    "    gene2pubmed_new = gene2pubmed_new[gene2pubmed_new['pubmed_id'].isin(valid_pubmed_ids.index)]\n",
    "\n",
    "    gene_count = gene2pubmed[(gene2pubmed['year'] >= 2000) & (gene2pubmed['year'] <= 2018)]['gene_ncbi'].value_counts()\n",
    "\n",
    "    genes_of_interest = gene_count[gene_count.index.isin(gene_info['gene_ncbi'])].index.values\n",
    "\n",
    "    edge_df = gene2pubmed_new[gene2pubmed_new['gene_ncbi'].isin(genes_of_interest)][['gene_ncbi', 'pubmed_id']]\n",
    "    G = nx.from_edgelist(edge_df.values)\n",
    "\n",
    "    len(edge_df['gene_ncbi'].value_counts().index.values)\n",
    "\n",
    "    B_weighted = nx.algorithms.bipartite.weighted_projected_graph(G, nodes=edge_df['gene_ncbi'].value_counts().index.values)\n",
    "\n",
    "    B_weighted.add_nodes_from(list(set(genes_of_interest) - set(B_weighted.nodes)))\n",
    "    \n",
    "    temporal_network[year] = B_weighted"
   ]
  },
  {
   "cell_type": "code",
   "execution_count": 180,
   "metadata": {},
   "outputs": [],
   "source": [
    "degrees = nx.degree(temporal_network.get(2000))"
   ]
  },
  {
   "cell_type": "code",
   "execution_count": 203,
   "metadata": {},
   "outputs": [
    {
     "data": {
      "text/plain": [
       "19788"
      ]
     },
     "execution_count": 203,
     "metadata": {},
     "output_type": "execute_result"
    }
   ],
   "source": [
    "# start from edge list of year-aggregated network\n",
    "# scikit learn allows for balanced training set"
   ]
  },
  {
   "cell_type": "code",
   "execution_count": 205,
   "metadata": {},
   "outputs": [
    {
     "name": "stdout",
     "output_type": "stream",
     "text": [
      "2000 12343\n",
      "2001 14872\n",
      "2002 19889\n",
      "2003 19135\n",
      "2004 19464\n",
      "2005 19743\n",
      "2006 19966\n",
      "2007 22697\n",
      "2008 27858\n",
      "2009 30840\n",
      "2010 32723\n",
      "2011 28741\n",
      "2012 28297\n",
      "2013 29132\n",
      "2014 28954\n",
      "2015 27090\n",
      "2016 25965\n",
      "2017 23522\n"
     ]
    }
   ],
   "source": [
    "for year in range(2000,2018):\n",
    "    degrees = nx.degree(temporal_network.get(year))\n",
    "    deg_array = np.array(list(dict(degrees).values()))\n",
    "    #print(year, np.mean(deg_array))\n",
    "    print(year, len(temporal_network.get(year).edges))\n",
    "    #sns.distplot(np.log10(deg_array+1), kde=False)"
   ]
  },
  {
   "cell_type": "code",
   "execution_count": 114,
   "metadata": {},
   "outputs": [
    {
     "name": "stdout",
     "output_type": "stream",
     "text": [
      "Wall time: 220 ms\n"
     ]
    }
   ],
   "source": [
    "%%time\n",
    "valid_pubmed_ids = gene2pubmed_new['pubmed_id'].value_counts()\n",
    "\n",
    "valid_pubmed_ids = valid_pubmed_ids[(valid_pubmed_ids > 1) & (valid_pubmed_ids <= 10)]\n",
    "\n",
    "gene2pubmed_new = gene2pubmed_new[gene2pubmed_new['pubmed_id'].isin(valid_pubmed_ids.index)]\n",
    "\n",
    "gene_count = gene2pubmed[(gene2pubmed['year'] >= 2000) & (gene2pubmed['year'] <= 2018)]['gene_ncbi'].value_counts()\n",
    "\n",
    "genes_of_interest = gene_count[gene_count.index.isin(gene_info['gene_ncbi'])].index[0:10].values\n",
    "\n",
    "gene2pubmed_unstack = gene2pubmed_new[gene2pubmed_new['gene_ncbi'].isin(genes_of_interest)].groupby(['pubmed_id', 'gene_ncbi']).size().unstack()\n",
    "gene2pubmed_unstack = gene2pubmed_unstack.fillna(0).astype(int)\n",
    "\n",
    "co_occ = gene2pubmed_unstack.T.dot(gene2pubmed_unstack)\n",
    "co_occ.values[tuple([np.arange(co_occ.shape[0])]*2)] = 0\n",
    "G = nx.from_pandas_adjacency(co_occ)\n",
    "\n",
    "# number of publications attribute\n",
    "n_pubs = dict([(node, gene_count[node]) for node in list(G)])\n",
    "nx.set_node_attributes(G, name='n_pubs', values=n_pubs)\n",
    "\n",
    "# node size attribute\n",
    "n_pubs_to_size = dict([(node, 0.3*np.sqrt(gene_count[node])) for node in list(G)])\n",
    "nx.set_node_attributes(G, name='size', values=n_pubs_to_size)\n",
    "\n",
    "# gene symbol attribute\n",
    "symbols = dict([(node, gene_info.loc[gene_info['gene_ncbi'] == node]['symbol_ncbi'].values[0]) for node in list(G)])\n",
    "nx.set_node_attributes(G, name='symbol', values=symbols)\n",
    "\n",
    "# gene description attribute\n",
    "full_names = dict([(node, gene_info.loc[gene_info['gene_ncbi'] == node]['description'].values[0]) for node in list(G)])\n",
    "nx.set_node_attributes(G, name='description', values=full_names)\n",
    "\n",
    "# weighted degree\n",
    "degrees = dict(nx.degree(G, weight='weight'))\n",
    "nx.set_node_attributes(G, name='w_degree', values=degrees)\n",
    "\n",
    "# unweighted degree\n",
    "degrees = dict(nx.degree(G))\n",
    "nx.set_node_attributes(G, name='u_degree', values=degrees)\n",
    "\n",
    "# betweeness centrality\n",
    "bc = dict(nx.betweenness_centrality(G, weight='weight'))\n",
    "nx.set_node_attributes(G, name='betweenness_centrality', values=bc)\n",
    "\n",
    "# website\n",
    "site = dict([(node, 'ncbi.nlm.nih.gov/gene/' + str(node)) for node in list(G)])\n",
    "nx.set_node_attributes(G, name='NCBI', values=site)"
   ]
  },
  {
   "cell_type": "code",
   "execution_count": 100,
   "metadata": {},
   "outputs": [
    {
     "ename": "ValueError",
     "evalue": "Received invalid argument(s): weight",
     "output_type": "error",
     "traceback": [
      "\u001b[1;31m---------------------------------------------------------------------------\u001b[0m",
      "\u001b[1;31mValueError\u001b[0m                                Traceback (most recent call last)",
      "\u001b[1;32m<ipython-input-100-07d45936fdd0>\u001b[0m in \u001b[0;36m<module>\u001b[1;34m\u001b[0m\n\u001b[1;32m----> 1\u001b[1;33m \u001b[0mnx\u001b[0m\u001b[1;33m.\u001b[0m\u001b[0mdraw\u001b[0m\u001b[1;33m(\u001b[0m\u001b[0mG\u001b[0m\u001b[1;33m,\u001b[0m \u001b[0mweight\u001b[0m\u001b[1;33m=\u001b[0m\u001b[1;34m'weight'\u001b[0m\u001b[1;33m)\u001b[0m\u001b[1;33m\u001b[0m\u001b[1;33m\u001b[0m\u001b[0m\n\u001b[0m",
      "\u001b[1;32m~\\AppData\\Roaming\\Python\\Python37\\site-packages\\networkx\\drawing\\nx_pylab.py\u001b[0m in \u001b[0;36mdraw\u001b[1;34m(G, pos, ax, **kwds)\u001b[0m\n\u001b[0;32m    119\u001b[0m         \u001b[0mkwds\u001b[0m\u001b[1;33m[\u001b[0m\u001b[1;34m\"with_labels\"\u001b[0m\u001b[1;33m]\u001b[0m \u001b[1;33m=\u001b[0m \u001b[1;34m\"labels\"\u001b[0m \u001b[1;32min\u001b[0m \u001b[0mkwds\u001b[0m\u001b[1;33m\u001b[0m\u001b[1;33m\u001b[0m\u001b[0m\n\u001b[0;32m    120\u001b[0m \u001b[1;33m\u001b[0m\u001b[0m\n\u001b[1;32m--> 121\u001b[1;33m     \u001b[0mdraw_networkx\u001b[0m\u001b[1;33m(\u001b[0m\u001b[0mG\u001b[0m\u001b[1;33m,\u001b[0m \u001b[0mpos\u001b[0m\u001b[1;33m=\u001b[0m\u001b[0mpos\u001b[0m\u001b[1;33m,\u001b[0m \u001b[0max\u001b[0m\u001b[1;33m=\u001b[0m\u001b[0max\u001b[0m\u001b[1;33m,\u001b[0m \u001b[1;33m**\u001b[0m\u001b[0mkwds\u001b[0m\u001b[1;33m)\u001b[0m\u001b[1;33m\u001b[0m\u001b[1;33m\u001b[0m\u001b[0m\n\u001b[0m\u001b[0;32m    122\u001b[0m     \u001b[0max\u001b[0m\u001b[1;33m.\u001b[0m\u001b[0mset_axis_off\u001b[0m\u001b[1;33m(\u001b[0m\u001b[1;33m)\u001b[0m\u001b[1;33m\u001b[0m\u001b[1;33m\u001b[0m\u001b[0m\n\u001b[0;32m    123\u001b[0m     \u001b[0mplt\u001b[0m\u001b[1;33m.\u001b[0m\u001b[0mdraw_if_interactive\u001b[0m\u001b[1;33m(\u001b[0m\u001b[1;33m)\u001b[0m\u001b[1;33m\u001b[0m\u001b[1;33m\u001b[0m\u001b[0m\n",
      "\u001b[1;32m~\\AppData\\Roaming\\Python\\Python37\\site-packages\\networkx\\drawing\\nx_pylab.py\u001b[0m in \u001b[0;36mdraw_networkx\u001b[1;34m(G, pos, arrows, with_labels, **kwds)\u001b[0m\n\u001b[0;32m    322\u001b[0m     \u001b[1;32mif\u001b[0m \u001b[0many\u001b[0m\u001b[1;33m(\u001b[0m\u001b[1;33m[\u001b[0m\u001b[0mk\u001b[0m \u001b[1;32mnot\u001b[0m \u001b[1;32min\u001b[0m \u001b[0mvalid_kwds\u001b[0m \u001b[1;32mfor\u001b[0m \u001b[0mk\u001b[0m \u001b[1;32min\u001b[0m \u001b[0mkwds\u001b[0m\u001b[1;33m]\u001b[0m\u001b[1;33m)\u001b[0m\u001b[1;33m:\u001b[0m\u001b[1;33m\u001b[0m\u001b[1;33m\u001b[0m\u001b[0m\n\u001b[0;32m    323\u001b[0m         \u001b[0minvalid_args\u001b[0m \u001b[1;33m=\u001b[0m \u001b[1;34m\", \"\u001b[0m\u001b[1;33m.\u001b[0m\u001b[0mjoin\u001b[0m\u001b[1;33m(\u001b[0m\u001b[1;33m[\u001b[0m\u001b[0mk\u001b[0m \u001b[1;32mfor\u001b[0m \u001b[0mk\u001b[0m \u001b[1;32min\u001b[0m \u001b[0mkwds\u001b[0m \u001b[1;32mif\u001b[0m \u001b[0mk\u001b[0m \u001b[1;32mnot\u001b[0m \u001b[1;32min\u001b[0m \u001b[0mvalid_kwds\u001b[0m\u001b[1;33m]\u001b[0m\u001b[1;33m)\u001b[0m\u001b[1;33m\u001b[0m\u001b[1;33m\u001b[0m\u001b[0m\n\u001b[1;32m--> 324\u001b[1;33m         \u001b[1;32mraise\u001b[0m \u001b[0mValueError\u001b[0m\u001b[1;33m(\u001b[0m\u001b[1;34mf\"Received invalid argument(s): {invalid_args}\"\u001b[0m\u001b[1;33m)\u001b[0m\u001b[1;33m\u001b[0m\u001b[1;33m\u001b[0m\u001b[0m\n\u001b[0m\u001b[0;32m    325\u001b[0m \u001b[1;33m\u001b[0m\u001b[0m\n\u001b[0;32m    326\u001b[0m     \u001b[0mnode_kwds\u001b[0m \u001b[1;33m=\u001b[0m \u001b[1;33m{\u001b[0m\u001b[0mk\u001b[0m\u001b[1;33m:\u001b[0m \u001b[0mv\u001b[0m \u001b[1;32mfor\u001b[0m \u001b[0mk\u001b[0m\u001b[1;33m,\u001b[0m \u001b[0mv\u001b[0m \u001b[1;32min\u001b[0m \u001b[0mkwds\u001b[0m\u001b[1;33m.\u001b[0m\u001b[0mitems\u001b[0m\u001b[1;33m(\u001b[0m\u001b[1;33m)\u001b[0m \u001b[1;32mif\u001b[0m \u001b[0mk\u001b[0m \u001b[1;32min\u001b[0m \u001b[0mvalid_node_kwds\u001b[0m\u001b[1;33m}\u001b[0m\u001b[1;33m\u001b[0m\u001b[1;33m\u001b[0m\u001b[0m\n",
      "\u001b[1;31mValueError\u001b[0m: Received invalid argument(s): weight"
     ]
    },
    {
     "data": {
      "image/png": "[encoded data removed]",
      "text/plain": [
       "<Figure size 432x288 with 1 Axes>"
      ]
     },
     "metadata": {},
     "output_type": "display_data"
    }
   ],
   "source": [
    "nx.draw(G, weight='weight')"
   ]
  },
  {
   "cell_type": "code",
   "execution_count": 61,
   "metadata": {},
   "outputs": [],
   "source": [
    "adj_mat = nx.adjacency_matrix(G)"
   ]
  },
  {
   "cell_type": "code",
   "execution_count": 64,
   "metadata": {},
   "outputs": [
    {
     "data": {
      "text/plain": [
       "<214625x214625 sparse matrix of type '<class 'numpy.intc'>'\n",
       "\twith 235113237 stored elements in Compressed Sparse Column format>"
      ]
     },
     "execution_count": 64,
     "metadata": {},
     "output_type": "execute_result"
    }
   ],
   "source": [
    "adj_mat.T @ adj_mat"
   ]
  },
  {
   "cell_type": "code",
   "execution_count": 18,
   "metadata": {},
   "outputs": [],
   "source": [
    "co_occ = gene2pubmed_unstack.T.dot(gene2pubmed_unstack)\n",
    "co_occ.values[tuple([np.arange(co_occ.shape[0])]*2)] = 0\n",
    "G = nx.from_pandas_adjacency(co_occ)"
   ]
  },
  {
   "cell_type": "code",
   "execution_count": 27,
   "metadata": {},
   "outputs": [
    {
     "data": {
      "text/plain": [
       "4342"
      ]
     },
     "execution_count": 27,
     "metadata": {},
     "output_type": "execute_result"
    }
   ],
   "source": [
    "np.sum(np.sum(co_occ == 0)"
   ]
  },
  {
   "cell_type": "code",
   "execution_count": 23,
   "metadata": {},
   "outputs": [
    {
     "data": {
      "text/plain": [
       "(100, 100)"
      ]
     },
     "execution_count": 23,
     "metadata": {},
     "output_type": "execute_result"
    }
   ],
   "source": [
    "co_occ.shape"
   ]
  },
  {
   "cell_type": "code",
   "execution_count": 28,
   "metadata": {},
   "outputs": [],
   "source": [
    "pn_df = pd.read_csv('./proteostasis/pn_network_211212.csv')\n",
    "\n",
    "name_to_entrez_dict = dict(zip(gene_info['symbol_ncbi'], gene_info['gene_ncbi']))\n",
    "\n",
    "# get entrez for genes with only name\n",
    "pn_df['gene_ncbi'] = pn_df['symbol_ncbi'].apply(lambda x: name_to_entrez_dict.get(x))\n",
    "\n",
    "# drop those still without entrez\n",
    "pn_df = pn_df.dropna(subset=['gene_ncbi'])\n",
    "\n",
    "# insert Falses\n",
    "pn_df[['cytosol','endoplasmic_reticulum', 'mitochondrial', 'ubq', 'autophagy',\n",
    "       'ribosomal_qc', 'canon_chaperones', 'ambiguous']] = pn_df.loc[:, ['cytosol',\n",
    "       'endoplasmic_reticulum', 'mitochondrial', 'ubq', 'autophagy',\n",
    "       'ribosomal_qc', 'canon_chaperones', 'ambiguous']].fillna(False)\n",
    "\n",
    "# remove ambiguous\n",
    "pn_df = pn_df[~pn_df['ambiguous']]\n",
    "\n",
    "# remove duplicates\n",
    "pn_df = pn_df.groupby('gene_entrez').max().reset_index()"
   ]
  },
  {
   "cell_type": "code",
   "execution_count": 29,
   "metadata": {},
   "outputs": [],
   "source": [
    "# neat str describing pn_role\n",
    "pn_df['pn_role'] = ''\n",
    "\n",
    "for index, row in pn_df.iterrows():\n",
    "    \n",
    "    pn_role = ''\n",
    "    if row['canon_chaperones']:\n",
    "        pn_role = pn_role + 'canon chaperone, '\n",
    "    if row['cytosol']:\n",
    "        pn_role = pn_role + 'cytosolic, '\n",
    "    if row['endoplasmic_reticulum']:\n",
    "        pn_role = pn_role + 'ER, '\n",
    "    if row['mitochondrial']:\n",
    "        pn_role = pn_role + 'ER, '\n",
    "    if row['ubq']:\n",
    "        pn_role = pn_role + 'ubiquitin system, '\n",
    "    if row['autophagy']:\n",
    "        pn_role = pn_role + 'autophagy, '\n",
    "    if row['ribosomal_qc']:\n",
    "        pn_role = pn_role + 'ribosome QC, '\n",
    "        \n",
    "    if np.sum(row[['cytosol','endoplasmic_reticulum', 'mitochondrial', 'ubq', 'autophagy',\n",
    "       'ribosomal_qc', 'canon_chaperones']]) > 0:\n",
    "        pn_role = pn_role[:-2]\n",
    "        \n",
    "    pn_df.loc[index, 'pn_role'] = pn_role"
   ]
  },
  {
   "cell_type": "code",
   "execution_count": 30,
   "metadata": {},
   "outputs": [
    {
     "name": "stdout",
     "output_type": "stream",
     "text": [
      "Wall time: 2.91 s\n"
     ]
    }
   ],
   "source": [
    "%%time\n",
    "valid_pubmed_ids = gene2pubmed_new['pubmed_id'].value_counts()\n",
    "\n",
    "valid_pubmed_ids = valid_pubmed_ids[(valid_pubmed_ids > 1) & (valid_pubmed_ids <= 10)]\n",
    "\n",
    "gene2pubmed_new = gene2pubmed_new[gene2pubmed_new['pubmed_id'].isin(valid_pubmed_ids.index)]\n",
    "\n",
    "gene_count = gene2pubmed[(gene2pubmed['year'] >= 2000) & (gene2pubmed['year'] <= 2018)]['gene_ncbi'].value_counts()\n",
    "\n",
    "genes_of_interest = gene_count[(gene_count.index.isin(gene_info['gene_ncbi'])) & \n",
    "                               (gene_count.index.isin(pn_df['gene_ncbi']))].index.values\n",
    "\n",
    "gene2pubmed_unstack = gene2pubmed_new[gene2pubmed_new['gene_ncbi'].isin(genes_of_interest)].groupby(['pubmed_id', 'gene_ncbi']).size().unstack()\n",
    "gene2pubmed_unstack = gene2pubmed_unstack.fillna(0).astype(int)\n",
    "\n",
    "co_occ = gene2pubmed_unstack.T.dot(gene2pubmed_unstack)\n",
    "co_occ.values[tuple([np.arange(co_occ.shape[0])]*2)] = 0\n",
    "G = nx.from_pandas_adjacency(co_occ)\n",
    "\n",
    "# number of publications attribute\n",
    "n_pubs = dict([(node, gene_count[node]) for node in list(G)])\n",
    "nx.set_node_attributes(G, name='n_pubs', values=n_pubs)\n",
    "\n",
    "# node size attribute\n",
    "n_pubs_to_size = dict([(node, 1*np.sqrt(gene_count[node])) for node in list(G)])\n",
    "nx.set_node_attributes(G, name='size', values=n_pubs_to_size)\n",
    "\n",
    "# gene symbol attribute\n",
    "symbols = dict([(node, gene_info.loc[gene_info['gene_ncbi'] == node]['symbol_ncbi'].values[0]) for node in list(G)])\n",
    "nx.set_node_attributes(G, name='symbol', values=symbols)\n",
    "\n",
    "# gene description attribute\n",
    "full_names = dict([(node, gene_info.loc[gene_info['gene_ncbi'] == node]['description'].values[0]) for node in list(G)])\n",
    "nx.set_node_attributes(G, name='description', values=full_names)\n",
    "\n",
    "# role in proteostasis\n",
    "pn_role = dict([(node, pn_df.loc[pn_df['gene_ncbi'] == node]['pn_role'].values[0]) for node in list(G)])\n",
    "nx.set_node_attributes(G, name='pn_role', values=pn_role)\n",
    "\n",
    "# weighted degree\n",
    "degrees = dict(nx.degree(G, weight='weight'))\n",
    "nx.set_node_attributes(G, name='w_degree', values=degrees)\n",
    "\n",
    "# unweighted degree\n",
    "degrees = dict(nx.degree(G))\n",
    "nx.set_node_attributes(G, name='u_degree', values=degrees)\n",
    "\n",
    "# betweeness centrality\n",
    "bc = dict(nx.betweenness_centrality(G, weight='weight'))\n",
    "nx.set_node_attributes(G, name='betweenness_centrality', values=bc)\n",
    "\n",
    "# website\n",
    "site = dict([(node, 'ncbi.nlm.nih.gov/gene/' + str(node)) for node in list(G)])\n",
    "nx.set_node_attributes(G, name='NCBI', values=site)"
   ]
  },
  {
   "cell_type": "code",
   "execution_count": null,
   "metadata": {},
   "outputs": [],
   "source": []
  }
 ],
 "metadata": {
  "kernelspec": {
   "display_name": "Python 3",
   "language": "python",
   "name": "python3"
  },
  "language_info": {
   "codemirror_mode": {
    "name": "ipython",
    "version": 3
   },
   "file_extension": ".py",
   "mimetype": "text/x-python",
   "name": "python",
   "nbconvert_exporter": "python",
   "pygments_lexer": "ipython3",
   "version": "3.7.1"
  }
 },
 "nbformat": 4,
 "nbformat_minor": 4
}
